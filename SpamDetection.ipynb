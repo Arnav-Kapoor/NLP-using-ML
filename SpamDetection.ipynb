{
 "cells": [
  {
   "cell_type": "code",
   "execution_count": null,
   "id": "cdfcdd4f-44f4-4b97-a662-8081c8d53e41",
   "metadata": {},
   "outputs": [],
   "source": [
    "import numpy as np\n",
    "import pandas as pd\n",
    "import seaborn as sn\n",
    "import matplotlib.pyplot as plt\n",
    "import wget\n",
    "from sklearn.feature_extraction.text import TfidfVectorizer,CountVectorizer\n",
    "from sklearn.model_selection import train_test_split\n",
    "from sklearn.metrics import roc_auc_score, f1_score,confusion_matrix\n",
    "from sklearn.naive_bayes import MultinomialNB\n",
    "from wordcloud import WordCloud"
   ]
  },
  {
   "cell_type": "code",
   "execution_count": null,
   "id": "c78cf6ac-2f5c-468f-97f6-6f713306178e",
   "metadata": {},
   "outputs": [],
   "source": [
    "# wget.download(\"https://lazyprogrammer.me/course_files/spam.csv\")"
   ]
  },
  {
   "cell_type": "code",
   "execution_count": null,
   "id": "4441b93c-2dbe-416b-a2e4-c8d0264c885e",
   "metadata": {},
   "outputs": [],
   "source": [
    "df=pd.read_csv('datasets/spam.csv', encoding='ISO-8859-1') #encoding coz of some characters that are not valid in utf-8 encoding"
   ]
  },
  {
   "cell_type": "code",
   "execution_count": null,
   "id": "22f427e8-bf4a-4bcc-b315-6e71397ea889",
   "metadata": {},
   "outputs": [],
   "source": [
    "df.head()"
   ]
  },
  {
   "cell_type": "code",
   "execution_count": null,
   "id": "a260344f-c729-4535-bcb5-4ec246872bbb",
   "metadata": {},
   "outputs": [],
   "source": [
    "df=df.drop([\"Unnamed: 2\",\"Unnamed: 3\",\"Unnamed: 4\"],axis=1)"
   ]
  },
  {
   "cell_type": "code",
   "execution_count": null,
   "id": "50527b1f-dada-4837-8ca6-cce127a12d8c",
   "metadata": {},
   "outputs": [],
   "source": [
    "df.head()"
   ]
  },
  {
   "cell_type": "code",
   "execution_count": null,
   "id": "d846e0ca-475d-4649-bfc9-66932397ff8c",
   "metadata": {},
   "outputs": [],
   "source": [
    "df.columns=['labels','data']"
   ]
  },
  {
   "cell_type": "code",
   "execution_count": null,
   "id": "b411162d-6c16-4575-9f0f-849fcb262f52",
   "metadata": {},
   "outputs": [],
   "source": [
    "df.head()"
   ]
  },
  {
   "cell_type": "code",
   "execution_count": null,
   "id": "9aeeb529-9ea7-4c67-8d0b-614971b16662",
   "metadata": {},
   "outputs": [],
   "source": [
    "df['labels'].hist()"
   ]
  },
  {
   "cell_type": "code",
   "execution_count": null,
   "id": "e54aef70-5f9c-4b0e-b934-b9e7947a3902",
   "metadata": {},
   "outputs": [],
   "source": [
    "df['b_labels']=df['labels'].map({'ham':0,'spam':1})\n",
    "Y=df['b_labels'].to_numpy()"
   ]
  },
  {
   "cell_type": "code",
   "execution_count": null,
   "id": "711934ba-4a7e-48bc-b966-13120de64fd2",
   "metadata": {},
   "outputs": [],
   "source": [
    "#split data\n",
    "X_train,X_test,y_train,y_test=train_test_split(df['data'],Y,test_size=0.33)"
   ]
  },
  {
   "cell_type": "code",
   "execution_count": null,
   "id": "9a5a63c1-5017-42b0-96cb-9c1a9ee4d4e5",
   "metadata": {},
   "outputs": [],
   "source": [
    "# featurizer=TfidfVectorizer(decode_error='ignore')\n",
    "# X_train=featurizer.fit_transform(X_train)\n",
    "# X_test=featurizer.transform(X_test)\n",
    "\n",
    "featurizer=CountVectorizer(decode_error='ignore')\n",
    "X_train=featurizer.fit_transform(X_train)\n",
    "X_test=featurizer.transform(X_test)"
   ]
  },
  {
   "cell_type": "code",
   "execution_count": null,
   "id": "8884e87e-d28e-4b37-8a4b-01b28ae29fde",
   "metadata": {},
   "outputs": [],
   "source": [
    "X_train"
   ]
  },
  {
   "cell_type": "code",
   "execution_count": null,
   "id": "fbda2e8c-d053-417f-8b16-bd5c6e839596",
   "metadata": {},
   "outputs": [],
   "source": [
    "#create model,train it, print score\n",
    "model=MultinomialNB()\n",
    "model.fit(X_train,y_train)\n",
    "print(\"Train acc: \",model.score(X_train,y_train))\n",
    "print(\"Test acc: \",model.score(X_test,y_test))"
   ]
  },
  {
   "cell_type": "code",
   "execution_count": null,
   "id": "6c787a66-6668-4e9e-985e-53f7049c1fce",
   "metadata": {},
   "outputs": [],
   "source": [
    "p_train=model.predict(X_train)\n",
    "p_test=model.predict(X_test)\n",
    "print(\"Train F1-score: \",f1_score(y_train,p_train))\n",
    "print(\"Test F1-score: \",f1_score(y_test,p_test))"
   ]
  },
  {
   "cell_type": "code",
   "execution_count": null,
   "id": "100e9842-45a0-42ef-82fd-5bcfb393227d",
   "metadata": {},
   "outputs": [],
   "source": [
    "prob_train=model.predict_proba(X_train)[:,1]\n",
    "prob_test=model.predict_proba(X_test)[:,1]\n",
    "print(\"train AUC: \",roc_auc_score(y_train,prob_train))\n",
    "print(\"test AUC: \",roc_auc_score(y_test,prob_test))"
   ]
  },
  {
   "cell_type": "code",
   "execution_count": null,
   "id": "fdfacb1e-bdc7-4bc0-af0b-cf6e905a6742",
   "metadata": {},
   "outputs": [],
   "source": [
    "cm=confusion_matrix(y_train,p_train)\n",
    "cm"
   ]
  },
  {
   "cell_type": "code",
   "execution_count": null,
   "id": "176857d1-29a4-4d28-96b4-3586e70b8fec",
   "metadata": {},
   "outputs": [],
   "source": [
    "from sklearn.metrics import ConfusionMatrixDisplay\n",
    "disp = ConfusionMatrixDisplay(confusion_matrix=cm, display_labels=['ham','spam'])\n",
    "disp.plot()"
   ]
  },
  {
   "cell_type": "code",
   "execution_count": null,
   "id": "c89bded7-79e9-4e9e-b9b1-b165faa2d7cc",
   "metadata": {},
   "outputs": [],
   "source": [
    "cm_test=confusion_matrix(p_test,y_test)\n",
    "cm_test"
   ]
  },
  {
   "cell_type": "code",
   "execution_count": null,
   "id": "5d3afcb5-b7d3-4258-9bc1-372934532c14",
   "metadata": {},
   "outputs": [],
   "source": [
    "disp = ConfusionMatrixDisplay(confusion_matrix=cm_test, display_labels=['ham','spam'])\n",
    "disp.plot()"
   ]
  },
  {
   "cell_type": "code",
   "execution_count": null,
   "id": "565b5513-65b9-4087-b04c-c44f9aa8699b",
   "metadata": {},
   "outputs": [],
   "source": [
    "#visualize data\n",
    "def visualize(label):\n",
    "    words=''\n",
    "    for msg in df[df['labels']==label]['data']:\n",
    "        msg=msg.lower()\n",
    "        words+=msg\n",
    "    wordcloud=WordCloud(width=600,height=400).generate(words)\n",
    "    plt.imshow(wordcloud)\n",
    "    plt.axis('off')\n",
    "    plt.show()"
   ]
  },
  {
   "cell_type": "code",
   "execution_count": null,
   "id": "69f55b64-6ad7-43bd-ade1-ca4d8d515260",
   "metadata": {},
   "outputs": [],
   "source": [
    "visualize('spam')"
   ]
  },
  {
   "cell_type": "code",
   "execution_count": null,
   "id": "99bc37de-324c-408f-9b88-a08e0165a14a",
   "metadata": {},
   "outputs": [],
   "source": [
    "visualize('ham')"
   ]
  },
  {
   "cell_type": "code",
   "execution_count": null,
   "id": "77ba54ed-5b0c-493b-bc0f-fdc2241e9e8e",
   "metadata": {},
   "outputs": [],
   "source": [
    "#see what we are getting wrong\n",
    "X=featurizer.transform(df['data'])\n",
    "df['predictions']=model.predict(X)"
   ]
  },
  {
   "cell_type": "code",
   "execution_count": null,
   "id": "3a9fc6a3-032a-42db-8c01-e8551052a0a1",
   "metadata": {
    "scrolled": true,
    "tags": []
   },
   "outputs": [],
   "source": [
    "#things that should be spam\n",
    "sneaky_spam=df[(df['predictions']==0) & (df['b_labels']==1)]['data']\n",
    "for msg in sneaky_spam:\n",
    "    print(msg)"
   ]
  },
  {
   "cell_type": "code",
   "execution_count": null,
   "id": "d0a12026-480c-4d24-9455-e3c8d0ab3c9e",
   "metadata": {},
   "outputs": [],
   "source": [
    "#not actually spam\n",
    "not_actually_spam=df[(df['predictions']==1) & (df['b_labels']==0)]['data']\n",
    "for msg in not_actually_spam:\n",
    "    print(msg)"
   ]
  },
  {
   "cell_type": "code",
   "execution_count": null,
   "id": "d273598e-0d87-4c06-bff1-d80fcf446daa",
   "metadata": {},
   "outputs": [],
   "source": []
  }
 ],
 "metadata": {
  "kernelspec": {
   "display_name": "Python 3 (ipykernel)",
   "language": "python",
   "name": "python3"
  },
  "language_info": {
   "codemirror_mode": {
    "name": "ipython",
    "version": 3
   },
   "file_extension": ".py",
   "mimetype": "text/x-python",
   "name": "python",
   "nbconvert_exporter": "python",
   "pygments_lexer": "ipython3",
   "version": "3.10.8"
  }
 },
 "nbformat": 4,
 "nbformat_minor": 5
}
