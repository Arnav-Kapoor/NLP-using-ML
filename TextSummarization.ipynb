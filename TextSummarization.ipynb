{
 "cells": [
  {
   "cell_type": "code",
   "execution_count": 14,
   "id": "62524436-8700-44fa-a346-ea2277dabb5f",
   "metadata": {},
   "outputs": [],
   "source": [
    "from nltk import sent_tokenize\n",
    "from sklearn.feature_extraction.text import TfidfVectorizer\n",
    "import numpy as np\n",
    "import pandas as pd\n",
    "import textwrap\n",
    "import nltk\n",
    "from nltk.corpus import stopwords\n",
    "from nltk import word_tokenize\n",
    "from nltk.stem import WordNetLemmatizer,PorterStemmer"
   ]
  },
  {
   "cell_type": "code",
   "execution_count": 15,
   "id": "219f44b4-9fdd-4464-9fb2-e3a1bec0576c",
   "metadata": {},
   "outputs": [
    {
     "name": "stderr",
     "output_type": "stream",
     "text": [
      "[nltk_data] Downloading package punkt to\n",
      "[nltk_data]     C:\\Users\\dellb\\AppData\\Roaming\\nltk_data...\n",
      "[nltk_data]   Package punkt is already up-to-date!\n",
      "[nltk_data] Downloading package stopwords to\n",
      "[nltk_data]     C:\\Users\\dellb\\AppData\\Roaming\\nltk_data...\n",
      "[nltk_data]   Unzipping corpora\\stopwords.zip.\n"
     ]
    },
    {
     "data": {
      "text/plain": [
       "True"
      ]
     },
     "execution_count": 15,
     "metadata": {},
     "output_type": "execute_result"
    }
   ],
   "source": [
    "nltk.download('punkt')\n",
    "nltk.download('stopwords')"
   ]
  },
  {
   "cell_type": "code",
   "execution_count": 2,
   "id": "6a933b35-104c-4597-8155-ac9a8f492a01",
   "metadata": {},
   "outputs": [],
   "source": [
    "df=pd.read_csv('datasets/bbc_text_cls.csv')"
   ]
  },
  {
   "cell_type": "code",
   "execution_count": 3,
   "id": "c6296983-303b-45c5-a867-6d224d150511",
   "metadata": {},
   "outputs": [
    {
     "data": {
      "text/html": [
       "<div>\n",
       "<style scoped>\n",
       "    .dataframe tbody tr th:only-of-type {\n",
       "        vertical-align: middle;\n",
       "    }\n",
       "\n",
       "    .dataframe tbody tr th {\n",
       "        vertical-align: top;\n",
       "    }\n",
       "\n",
       "    .dataframe thead th {\n",
       "        text-align: right;\n",
       "    }\n",
       "</style>\n",
       "<table border=\"1\" class=\"dataframe\">\n",
       "  <thead>\n",
       "    <tr style=\"text-align: right;\">\n",
       "      <th></th>\n",
       "      <th>text</th>\n",
       "      <th>labels</th>\n",
       "    </tr>\n",
       "  </thead>\n",
       "  <tbody>\n",
       "    <tr>\n",
       "      <th>0</th>\n",
       "      <td>Ad sales boost Time Warner profit\\n\\nQuarterly...</td>\n",
       "      <td>business</td>\n",
       "    </tr>\n",
       "    <tr>\n",
       "      <th>1</th>\n",
       "      <td>Dollar gains on Greenspan speech\\n\\nThe dollar...</td>\n",
       "      <td>business</td>\n",
       "    </tr>\n",
       "    <tr>\n",
       "      <th>2</th>\n",
       "      <td>Yukos unit buyer faces loan claim\\n\\nThe owner...</td>\n",
       "      <td>business</td>\n",
       "    </tr>\n",
       "    <tr>\n",
       "      <th>3</th>\n",
       "      <td>High fuel prices hit BA's profits\\n\\nBritish A...</td>\n",
       "      <td>business</td>\n",
       "    </tr>\n",
       "    <tr>\n",
       "      <th>4</th>\n",
       "      <td>Pernod takeover talk lifts Domecq\\n\\nShares in...</td>\n",
       "      <td>business</td>\n",
       "    </tr>\n",
       "  </tbody>\n",
       "</table>\n",
       "</div>"
      ],
      "text/plain": [
       "                                                text    labels\n",
       "0  Ad sales boost Time Warner profit\\n\\nQuarterly...  business\n",
       "1  Dollar gains on Greenspan speech\\n\\nThe dollar...  business\n",
       "2  Yukos unit buyer faces loan claim\\n\\nThe owner...  business\n",
       "3  High fuel prices hit BA's profits\\n\\nBritish A...  business\n",
       "4  Pernod takeover talk lifts Domecq\\n\\nShares in...  business"
      ]
     },
     "execution_count": 3,
     "metadata": {},
     "output_type": "execute_result"
    }
   ],
   "source": [
    "df.head()"
   ]
  },
  {
   "cell_type": "code",
   "execution_count": 18,
   "id": "812a7381-bee3-4fca-a8b6-405085b3b25b",
   "metadata": {},
   "outputs": [],
   "source": [
    "doc=df[df['labels']=='business']['text'].sample(random_state=42)"
   ]
  },
  {
   "cell_type": "code",
   "execution_count": 21,
   "id": "1f578b3a-4b1c-4e84-a6a5-a19bf7a68895",
   "metadata": {},
   "outputs": [],
   "source": [
    "def wrap(x):\n",
    "    return textwrap.fill(x,replace_whitespace=False,fix_sentence_endings=True)"
   ]
  },
  {
   "cell_type": "code",
   "execution_count": 22,
   "id": "b34785db-188f-4ca6-a98a-ffdd7f331e6f",
   "metadata": {},
   "outputs": [
    {
     "name": "stdout",
     "output_type": "stream",
     "text": [
      "Christmas sales worst since 1981\n",
      "\n",
      "UK retail sales fell in December,\n",
      "failing to meet expectations and making it by some counts the worst\n",
      "Christmas since 1981.\n",
      "\n",
      "Retail sales dropped by 1% on the month in\n",
      "December, after a 0.6% rise in November, the Office for National\n",
      "Statistics (ONS) said.  The ONS revised the annual 2004 rate of growth\n",
      "down from the 5.9% estimated in November to 3.2%. A number of\n",
      "retailers have already reported poor figures for December.  Clothing\n",
      "retailers and non-specialist stores were the worst hit with only\n",
      "internet retailers showing any significant growth, according to the\n",
      "ONS.\n",
      "\n",
      "The last time retailers endured a tougher Christmas was 23 years\n",
      "previously, when sales plunged 1.7%.\n",
      "\n",
      "The ONS echoed an earlier\n",
      "caution from Bank of England governor Mervyn King not to read too much\n",
      "into the poor December figures.  Some analysts put a positive gloss on\n",
      "the figures, pointing out that the non-seasonally-adjusted figures\n",
      "showed a performance comparable with 2003. The November-December jump\n",
      "last year was roughly comparable with recent averages, although some\n",
      "way below the serious booms seen in the 1990s.  And figures for retail\n",
      "volume outperformed measures of actual spending, an indication that\n",
      "consumers are looking for bargains, and retailers are cutting their\n",
      "prices.\n",
      "\n",
      "However, reports from some High Street retailers highlight\n",
      "the weakness of the sector.  Morrisons, Woolworths, House of Fraser,\n",
      "Marks & Spencer and Big Food all said that the festive period was\n",
      "disappointing.\n",
      "\n",
      "And a British Retail Consortium survey found that\n",
      "Christmas 2004 was the worst for 10 years.  Yet, other retailers -\n",
      "including HMV, Monsoon, Jessops, Body Shop and Tesco - reported that\n",
      "festive sales were well up on last year.  Investec chief economist\n",
      "Philip Shaw said he did not expect the poor retail figures to have any\n",
      "immediate effect on interest rates.  \"The retail sales figures are\n",
      "very weak, but as Bank of England governor Mervyn King indicated last\n",
      "night, you don't really get an accurate impression of Christmas\n",
      "trading until about Easter,\" said Mr Shaw.  \"Our view is the Bank of\n",
      "England will keep its powder dry and wait to see the big picture.\"\n"
     ]
    }
   ],
   "source": [
    "print(wrap(doc.iloc[0]))"
   ]
  },
  {
   "cell_type": "code",
   "execution_count": 23,
   "id": "f1461d71-a81d-4893-bd1f-5c8b88116e3b",
   "metadata": {},
   "outputs": [],
   "source": [
    "sents=sent_tokenize(doc.iloc[0].split(\"\\n\",1)[1])"
   ]
  },
  {
   "cell_type": "code",
   "execution_count": 24,
   "id": "e3b1e556-3abc-4461-9949-fec88311c5ea",
   "metadata": {},
   "outputs": [],
   "source": [
    "featurizer=TfidfVectorizer(stop_words=stopwords.words('english'),norm='l1')#no bias towards longer sentences"
   ]
  },
  {
   "cell_type": "code",
   "execution_count": 25,
   "id": "7cec49b2-c4b2-4e68-b785-c9733af41266",
   "metadata": {},
   "outputs": [],
   "source": [
    "X=featurizer.fit_transform(sents)"
   ]
  },
  {
   "cell_type": "code",
   "execution_count": 27,
   "id": "ea0b34fe-281c-4a16-bf3c-7934008f7360",
   "metadata": {},
   "outputs": [],
   "source": [
    "def get_sentence_score(tfidf_row):\n",
    "    #avg of non-zero values\n",
    "    x=tfidf_row[tfidf_row!=0]\n",
    "    return x.mean()"
   ]
  },
  {
   "cell_type": "code",
   "execution_count": 28,
   "id": "400a762d-5c70-47ca-949a-1b3fb76a55ab",
   "metadata": {},
   "outputs": [],
   "source": [
    "scores=np.zeros(len(sents))\n",
    "for i in range(len(sents)):\n",
    "    score=get_sentence_score(X[i,:])\n",
    "    scores[i]=score"
   ]
  },
  {
   "cell_type": "code",
   "execution_count": 29,
   "id": "000e3535-fc91-491e-9e10-c133875743a2",
   "metadata": {},
   "outputs": [],
   "source": [
    "sort_idx=np.argsort(-scores)"
   ]
  },
  {
   "cell_type": "code",
   "execution_count": 32,
   "id": "cc9d5964-40b0-45f1-9330-b7ebb11e2311",
   "metadata": {},
   "outputs": [
    {
     "name": "stdout",
     "output_type": "stream",
     "text": [
      "generated summary: \n",
      "0.14 A number of retailers have already reported poor figures for\n",
      "December.\n",
      "0.13 However, reports from some High Street retailers highlight the\n",
      "weakness of the sector.\n",
      "0.12 The ONS revised the annual 2004 rate of growth down from the 5.9%\n",
      "estimated in November to 3.2%.\n",
      "0.10 \"Our view is the Bank of England will keep its powder dry and\n",
      "wait to see the big picture.\"\n",
      "0.10 And a British Retail Consortium survey found that Christmas 2004\n",
      "was the worst for 10 years.\n"
     ]
    }
   ],
   "source": [
    "print(\"generated summary: \")\n",
    "for i in sort_idx[:5]:\n",
    "    print(wrap(\"%.2f %s\" % (scores[i], sents[i])))"
   ]
  },
  {
   "cell_type": "code",
   "execution_count": 33,
   "id": "11770856-965e-46a4-a0c4-e275e93d7815",
   "metadata": {},
   "outputs": [],
   "source": [
    "##funtion for abpve code\n",
    "\n",
    "def summarize(text):\n",
    "    #tokenize into sentences\n",
    "    sents=sent_tokenize(text)\n",
    "    \n",
    "    #perform tf-idf\n",
    "    X=featurizer.fit_transform(sents)\n",
    "    \n",
    "    #calculate score\n",
    "    scores=np.zeros(len(sents))\n",
    "    for i in range(len(sents)):\n",
    "        score=get_sentence_score(X[i,:])\n",
    "        scores[i]=score\n",
    "    \n",
    "    sort_idx=np.argsort(-scores)\n",
    "    \n",
    "    print(\"generated summary: \")\n",
    "    for i in sort_idx[:5]:\n",
    "        print(wrap(\"%.2f %s\" % (scores[i], sents[i])))"
   ]
  },
  {
   "cell_type": "markdown",
   "id": "bfe52f6f-76d6-4135-880a-51199392804e",
   "metadata": {},
   "source": [
    "## using textrank"
   ]
  },
  {
   "cell_type": "code",
   "execution_count": 34,
   "id": "6c402ba0-db3a-4323-a4f9-645a9da9dc93",
   "metadata": {},
   "outputs": [],
   "source": [
    "from sklearn.metrics.pairwise import cosine_similarity"
   ]
  },
  {
   "cell_type": "code",
   "execution_count": 38,
   "id": "d0474ff4-a898-47c9-90e9-7681168e6464",
   "metadata": {},
   "outputs": [],
   "source": [
    "#compute cosine similarity\n",
    "S=cosine_similarity(X)"
   ]
  },
  {
   "cell_type": "code",
   "execution_count": 39,
   "id": "8b7aa27d-7926-4d69-8a41-bf51d4e7ab2f",
   "metadata": {},
   "outputs": [
    {
     "data": {
      "text/plain": [
       "(17, 17)"
      ]
     },
     "execution_count": 39,
     "metadata": {},
     "output_type": "execute_result"
    }
   ],
   "source": [
    "S.shape"
   ]
  },
  {
   "cell_type": "code",
   "execution_count": 40,
   "id": "bdde3e72-2d7f-4be0-a65c-518e7788dd66",
   "metadata": {},
   "outputs": [
    {
     "data": {
      "text/plain": [
       "17"
      ]
     },
     "execution_count": 40,
     "metadata": {},
     "output_type": "execute_result"
    }
   ],
   "source": [
    "len(sents)"
   ]
  },
  {
   "cell_type": "code",
   "execution_count": 42,
   "id": "52fc8e1a-edef-4422-ae55-827e8da97cca",
   "metadata": {},
   "outputs": [],
   "source": [
    "#normalize similarity matrix\n",
    "S/=S.sum(axis=1, keepdims=True)"
   ]
  },
  {
   "cell_type": "code",
   "execution_count": 44,
   "id": "850602c8-54b7-41a7-8383-21f24ba6c03f",
   "metadata": {},
   "outputs": [
    {
     "data": {
      "text/plain": [
       "1.0"
      ]
     },
     "execution_count": 44,
     "metadata": {},
     "output_type": "execute_result"
    }
   ],
   "source": [
    "S[0].sum()"
   ]
  },
  {
   "cell_type": "code",
   "execution_count": 45,
   "id": "b2f296a4-812b-4f0e-870d-dd5be2460090",
   "metadata": {},
   "outputs": [],
   "source": [
    "#Uniform transition matrix\n",
    "U=np.ones_like(S)/len(S)"
   ]
  },
  {
   "cell_type": "code",
   "execution_count": 46,
   "id": "bc152eee-c03f-4fe3-994c-a1b787922880",
   "metadata": {},
   "outputs": [
    {
     "data": {
      "text/plain": [
       "1.0"
      ]
     },
     "execution_count": 46,
     "metadata": {},
     "output_type": "execute_result"
    }
   ],
   "source": [
    "U[0].sum()"
   ]
  },
  {
   "cell_type": "code",
   "execution_count": 47,
   "id": "628a091e-8a8b-4591-8000-a60bcaeb1bf1",
   "metadata": {},
   "outputs": [],
   "source": [
    "#smoothed similarity matrix\n",
    "factor=0.15\n",
    "S=(1-factor)*S+factor*U"
   ]
  },
  {
   "cell_type": "code",
   "execution_count": 48,
   "id": "d8cfabdc-f509-4306-8561-d0c755c58b1f",
   "metadata": {},
   "outputs": [
    {
     "data": {
      "text/plain": [
       "1.0"
      ]
     },
     "execution_count": 48,
     "metadata": {},
     "output_type": "execute_result"
    }
   ],
   "source": [
    "S[0].sum()"
   ]
  },
  {
   "cell_type": "code",
   "execution_count": 49,
   "id": "261d17de-1935-44f6-920c-059eddd8dbf0",
   "metadata": {},
   "outputs": [],
   "source": [
    "#find the limiting/stationary distribution\n",
    "eigenvals, eigenvecs=np.linalg.eig(S.T)"
   ]
  },
  {
   "cell_type": "code",
   "execution_count": 50,
   "id": "ef2372f3-d63c-42c5-b42d-911bde6d7b09",
   "metadata": {},
   "outputs": [
    {
     "data": {
      "text/plain": [
       "array([1.        , 0.24245466, 0.72108199, 0.67644122, 0.34790129,\n",
       "       0.34417302, 0.3866884 , 0.40333562, 0.41608572, 0.44238593,\n",
       "       0.63909999, 0.62556792, 0.58922572, 0.57452382, 0.48511399,\n",
       "       0.51329157, 0.52975372])"
      ]
     },
     "execution_count": 50,
     "metadata": {},
     "output_type": "execute_result"
    }
   ],
   "source": [
    "eigenvals"
   ]
  },
  {
   "cell_type": "code",
   "execution_count": 51,
   "id": "9a5318c6-27f4-48ad-82c3-f1efdb1163b5",
   "metadata": {},
   "outputs": [
    {
     "data": {
      "text/plain": [
       "array([-0.24206557, -0.27051337, -0.2213806 , -0.28613638, -0.25065894,\n",
       "       -0.2499217 , -0.279622  , -0.21515455, -0.2226665 , -0.22745415,\n",
       "       -0.2059112 , -0.20959727, -0.23526242, -0.24203809, -0.23663025,\n",
       "       -0.2940483 , -0.20865607])"
      ]
     },
     "execution_count": 51,
     "metadata": {},
     "output_type": "execute_result"
    }
   ],
   "source": [
    "eigenvecs[:,0]"
   ]
  },
  {
   "cell_type": "code",
   "execution_count": 52,
   "id": "8d351e53-a7bc-48f7-9595-885cfd3f4493",
   "metadata": {},
   "outputs": [
    {
     "data": {
      "text/plain": [
       "array([-0.24206557, -0.27051337, -0.2213806 , -0.28613638, -0.25065894,\n",
       "       -0.2499217 , -0.279622  , -0.21515455, -0.2226665 , -0.22745415,\n",
       "       -0.2059112 , -0.20959727, -0.23526242, -0.24203809, -0.23663025,\n",
       "       -0.2940483 , -0.20865607])"
      ]
     },
     "execution_count": 52,
     "metadata": {},
     "output_type": "execute_result"
    }
   ],
   "source": [
    "eigenvecs[:,0].dot(S)"
   ]
  },
  {
   "cell_type": "code",
   "execution_count": 53,
   "id": "a1733158-65af-4a52-8da5-71b1dac24314",
   "metadata": {},
   "outputs": [
    {
     "data": {
      "text/plain": [
       "array([0.05907327, 0.06601563, 0.05402535, 0.06982824, 0.06117038,\n",
       "       0.06099047, 0.06823848, 0.05250595, 0.05433915, 0.05550753,\n",
       "       0.05025022, 0.05114976, 0.05741304, 0.05906657, 0.05774684,\n",
       "       0.07175905, 0.05092007])"
      ]
     },
     "execution_count": 53,
     "metadata": {},
     "output_type": "execute_result"
    }
   ],
   "source": [
    "eigenvecs[:,0]/eigenvecs[:,0].sum()"
   ]
  },
  {
   "cell_type": "code",
   "execution_count": 55,
   "id": "4471ab8f-cde7-4937-872d-3ab6f1941a81",
   "metadata": {},
   "outputs": [
    {
     "name": "stdout",
     "output_type": "stream",
     "text": [
      "41\n"
     ]
    }
   ],
   "source": [
    "limiting_dist=np.ones(len(S))/len(S)\n",
    "threshold=1e-8\n",
    "delta=float('inf')\n",
    "iters=0\n",
    "while delta>threshold:\n",
    "    iters+=1\n",
    "    \n",
    "    #markov transition\n",
    "    p=limiting_dist.dot(S)\n",
    "    \n",
    "    #compute change in limiting distribution\n",
    "    delta=np.abs(p-limiting_dist).sum()\n",
    "    \n",
    "    #update limitng distribution\n",
    "    limiting_dist=p\n",
    "    \n",
    "print(iters)"
   ]
  },
  {
   "cell_type": "code",
   "execution_count": 56,
   "id": "91a4554c-3cbb-47cb-b73c-9c5ab05f5c0e",
   "metadata": {},
   "outputs": [
    {
     "data": {
      "text/plain": [
       "array([0.05907327, 0.06601563, 0.05402534, 0.06982824, 0.06117038,\n",
       "       0.06099047, 0.06823848, 0.05250595, 0.05433915, 0.05550753,\n",
       "       0.05025022, 0.05114977, 0.05741304, 0.05906657, 0.05774685,\n",
       "       0.07175905, 0.05092008])"
      ]
     },
     "execution_count": 56,
     "metadata": {},
     "output_type": "execute_result"
    }
   ],
   "source": [
    "limiting_dist"
   ]
  },
  {
   "cell_type": "code",
   "execution_count": 57,
   "id": "8c2e25d8-2188-424f-a83e-662137650cf6",
   "metadata": {},
   "outputs": [
    {
     "data": {
      "text/plain": [
       "0.9999999999999982"
      ]
     },
     "execution_count": 57,
     "metadata": {},
     "output_type": "execute_result"
    }
   ],
   "source": [
    "limiting_dist.sum()"
   ]
  },
  {
   "cell_type": "code",
   "execution_count": 58,
   "id": "ecc7dde4-a449-421f-be95-1e2b9bfd6ef3",
   "metadata": {},
   "outputs": [
    {
     "data": {
      "text/plain": [
       "1.996473881354932e-08"
      ]
     },
     "execution_count": 58,
     "metadata": {},
     "output_type": "execute_result"
    }
   ],
   "source": [
    "np.abs(eigenvecs[:,0]/eigenvecs[:,0].sum()-limiting_dist).sum()"
   ]
  },
  {
   "cell_type": "code",
   "execution_count": 59,
   "id": "e46226ee-12f0-4518-af33-fee360c0307e",
   "metadata": {},
   "outputs": [],
   "source": [
    "scores=limiting_dist"
   ]
  },
  {
   "cell_type": "code",
   "execution_count": 60,
   "id": "9e74235f-382a-42f4-a5f1-91126276e226",
   "metadata": {},
   "outputs": [],
   "source": [
    "sort_idx=np.argsort(-scores)"
   ]
  },
  {
   "cell_type": "code",
   "execution_count": 61,
   "id": "608da5d8-b0d7-4f00-a366-7ab362583fed",
   "metadata": {},
   "outputs": [
    {
     "name": "stdout",
     "output_type": "stream",
     "text": [
      "generated summary: \n",
      "0.07 \"The retail sales figures are very weak, but as Bank of England\n",
      "governor Mervyn King indicated last night, you don't really get an\n",
      "accurate impression of Christmas trading until about Easter,\" said Mr\n",
      "Shaw.\n",
      "0.07 A number of retailers have already reported poor figures for\n",
      "December.\n",
      "0.07 The ONS echoed an earlier caution from Bank of England governor\n",
      "Mervyn King not to read too much into the poor December figures.\n",
      "0.07 Retail sales dropped by 1% on the month in December, after a 0.6%\n",
      "rise in November, the Office for National Statistics (ONS) said.\n",
      "0.06 Clothing retailers and non-specialist stores were the worst hit\n",
      "with only internet retailers showing any significant growth, according\n",
      "to the ONS.\n"
     ]
    }
   ],
   "source": [
    "print(\"generated summary: \")\n",
    "for i in sort_idx[:5]:\n",
    "    print(wrap(\"%.2f %s\" % (scores[i], sents[i])))"
   ]
  },
  {
   "cell_type": "markdown",
   "id": "c0c3dd59-829c-4e81-8f3d-b86ad3c6a2ac",
   "metadata": {},
   "source": [
    "## using libraries"
   ]
  },
  {
   "cell_type": "code",
   "execution_count": 62,
   "id": "baceda20-df63-408e-8858-340ea9e7c5ed",
   "metadata": {},
   "outputs": [
    {
     "name": "stdout",
     "output_type": "stream",
     "text": [
      "Collecting sumy\n",
      "  Downloading sumy-0.11.0-py2.py3-none-any.whl (97 kB)\n",
      "     ---------------------------------------- 97.3/97.3 kB 2.8 MB/s eta 0:00:00\n",
      "Requirement already satisfied: docopt<0.7,>=0.6.1 in c:\\users\\dellb\\appdata\\local\\programs\\python\\python310\\lib\\site-packages (from sumy) (0.6.2)\n",
      "Collecting breadability>=0.1.20 (from sumy)\n",
      "  Downloading breadability-0.1.20.tar.gz (32 kB)\n",
      "  Preparing metadata (setup.py): started\n",
      "  Preparing metadata (setup.py): finished with status 'done'\n",
      "Requirement already satisfied: requests>=2.7.0 in c:\\users\\dellb\\appdata\\roaming\\python\\python310\\site-packages (from sumy) (2.28.2)\n",
      "Collecting pycountry>=18.2.23 (from sumy)\n",
      "  Downloading pycountry-22.3.5.tar.gz (10.1 MB)\n",
      "     --------------------------------------- 10.1/10.1 MB 20.9 MB/s eta 0:00:00\n",
      "  Installing build dependencies: started\n",
      "  Installing build dependencies: finished with status 'done'\n",
      "  Getting requirements to build wheel: started\n",
      "  Getting requirements to build wheel: finished with status 'done'\n",
      "  Preparing metadata (pyproject.toml): started\n",
      "  Preparing metadata (pyproject.toml): finished with status 'done'\n",
      "Requirement already satisfied: nltk>=3.0.2 in c:\\users\\dellb\\appdata\\local\\programs\\python\\python310\\lib\\site-packages (from sumy) (3.7)\n",
      "Collecting chardet (from breadability>=0.1.20->sumy)\n",
      "  Obtaining dependency information for chardet from https://files.pythonhosted.org/packages/38/6f/f5fbc992a329ee4e0f288c1fe0e2ad9485ed064cac731ed2fe47dcc38cbf/chardet-5.2.0-py3-none-any.whl.metadata\n",
      "  Downloading chardet-5.2.0-py3-none-any.whl.metadata (3.4 kB)\n",
      "Requirement already satisfied: lxml>=2.0 in c:\\users\\dellb\\appdata\\local\\programs\\python\\python310\\lib\\site-packages (from breadability>=0.1.20->sumy) (4.9.2)\n",
      "Requirement already satisfied: click in c:\\users\\dellb\\appdata\\local\\programs\\python\\python310\\lib\\site-packages (from nltk>=3.0.2->sumy) (8.1.3)\n",
      "Requirement already satisfied: joblib in c:\\users\\dellb\\appdata\\local\\programs\\python\\python310\\lib\\site-packages (from nltk>=3.0.2->sumy) (1.2.0)\n",
      "Requirement already satisfied: regex>=2021.8.3 in c:\\users\\dellb\\appdata\\local\\programs\\python\\python310\\lib\\site-packages (from nltk>=3.0.2->sumy) (2021.11.10)\n",
      "Requirement already satisfied: tqdm in c:\\users\\dellb\\appdata\\local\\programs\\python\\python310\\lib\\site-packages (from nltk>=3.0.2->sumy) (4.64.1)\n",
      "Requirement already satisfied: setuptools in c:\\users\\dellb\\appdata\\local\\programs\\python\\python310\\lib\\site-packages (from pycountry>=18.2.23->sumy) (67.6.1)\n",
      "Requirement already satisfied: charset-normalizer<4,>=2 in c:\\users\\dellb\\appdata\\local\\programs\\python\\python310\\lib\\site-packages (from requests>=2.7.0->sumy) (2.1.1)\n",
      "Requirement already satisfied: idna<4,>=2.5 in c:\\users\\dellb\\appdata\\local\\programs\\python\\python310\\lib\\site-packages (from requests>=2.7.0->sumy) (3.4)\n",
      "Requirement already satisfied: urllib3<1.27,>=1.21.1 in c:\\users\\dellb\\appdata\\local\\programs\\python\\python310\\lib\\site-packages (from requests>=2.7.0->sumy) (1.26.15)\n",
      "Requirement already satisfied: certifi>=2017.4.17 in c:\\users\\dellb\\appdata\\roaming\\python\\python310\\site-packages (from requests>=2.7.0->sumy) (2022.12.7)\n",
      "Requirement already satisfied: colorama in c:\\users\\dellb\\appdata\\local\\programs\\python\\python310\\lib\\site-packages (from click->nltk>=3.0.2->sumy) (0.4.6)\n",
      "Downloading chardet-5.2.0-py3-none-any.whl (199 kB)\n",
      "   ---------------------------------------- 199.4/199.4 kB ? eta 0:00:00\n",
      "Building wheels for collected packages: breadability, pycountry\n",
      "  Building wheel for breadability (setup.py): started\n",
      "  Building wheel for breadability (setup.py): finished with status 'done'\n",
      "  Created wheel for breadability: filename=breadability-0.1.20-py2.py3-none-any.whl size=21741 sha256=f49db59fcd1051b29574cdb8288bb6915465ca41028322ba45c05f626fe5f360\n",
      "  Stored in directory: c:\\users\\dellb\\appdata\\local\\pip\\cache\\wheels\\64\\22\\90\\b84fcc30e16598db20a0d41340616dbf9b1e82bbcc627b0b33\n",
      "  Building wheel for pycountry (pyproject.toml): started\n",
      "  Building wheel for pycountry (pyproject.toml): finished with status 'done'\n",
      "  Created wheel for pycountry: filename=pycountry-22.3.5-py2.py3-none-any.whl size=10681895 sha256=c2f639c9478c428c467d39da33d886a4765bbf3eb25f3ec6a534ab94af8e4d62\n",
      "  Stored in directory: c:\\users\\dellb\\appdata\\local\\pip\\cache\\wheels\\03\\57\\cc\\290c5252ec97a6d78d36479a3c5e5ecc76318afcb241ad9dbe\n",
      "Successfully built breadability pycountry\n",
      "Installing collected packages: pycountry, chardet, breadability, sumy\n",
      "Successfully installed breadability-0.1.20 chardet-5.2.0 pycountry-22.3.5 sumy-0.11.0\n"
     ]
    },
    {
     "name": "stderr",
     "output_type": "stream",
     "text": [
      "WARNING: Ignoring invalid distribution -pencv-python-headless (c:\\users\\dellb\\appdata\\roaming\\python\\python310\\site-packages)\n",
      "WARNING: Ignoring invalid distribution -pencv-python-headless (c:\\users\\dellb\\appdata\\roaming\\python\\python310\\site-packages)\n",
      "WARNING: Ignoring invalid distribution - (c:\\users\\dellb\\appdata\\local\\programs\\python\\python310\\lib\\site-packages)\n",
      "WARNING: Ignoring invalid distribution -rotobuf (c:\\users\\dellb\\appdata\\local\\programs\\python\\python310\\lib\\site-packages)\n",
      "WARNING: Ignoring invalid distribution -pencv-python-headless (c:\\users\\dellb\\appdata\\roaming\\python\\python310\\site-packages)\n",
      "WARNING: Ignoring invalid distribution - (c:\\users\\dellb\\appdata\\local\\programs\\python\\python310\\lib\\site-packages)\n",
      "WARNING: Ignoring invalid distribution -rotobuf (c:\\users\\dellb\\appdata\\local\\programs\\python\\python310\\lib\\site-packages)\n",
      "WARNING: Ignoring invalid distribution -pencv-python-headless (c:\\users\\dellb\\appdata\\roaming\\python\\python310\\site-packages)\n",
      "WARNING: Ignoring invalid distribution -pencv-python-headless (c:\\users\\dellb\\appdata\\roaming\\python\\python310\\site-packages)\n",
      "WARNING: Ignoring invalid distribution -pencv-python-headless (c:\\users\\dellb\\appdata\\roaming\\python\\python310\\site-packages)\n"
     ]
    }
   ],
   "source": [
    "!pip install sumy"
   ]
  },
  {
   "cell_type": "code",
   "execution_count": 63,
   "id": "98323406-06fd-409d-b853-4fdbb953dc16",
   "metadata": {},
   "outputs": [],
   "source": [
    "from sumy.summarizers.text_rank import TextRankSummarizer\n",
    "from sumy.summarizers.lsa import LsaSummarizer\n",
    "from sumy.parsers.plaintext import PlaintextParser\n",
    "from sumy.nlp.tokenizers import Tokenizer"
   ]
  },
  {
   "cell_type": "code",
   "execution_count": 64,
   "id": "3d8e8650-2a20-46e9-8993-0c6cf175eb91",
   "metadata": {},
   "outputs": [],
   "source": [
    "summarizer=TextRankSummarizer()\n",
    "parser=PlaintextParser.from_string(\n",
    "        doc.iloc[0].split(\"\\n\",1)[1],\n",
    "            Tokenizer(\"english\"))\n",
    "summary=summarizer(parser.document,sentences_count=5)"
   ]
  },
  {
   "cell_type": "code",
   "execution_count": 65,
   "id": "c10fc0e1-28d0-49c7-a7dd-ef4ea3d66a31",
   "metadata": {},
   "outputs": [
    {
     "data": {
      "text/plain": [
       "(<Sentence: Retail sales dropped by 1% on the month in December, after a 0.6% rise in November, the Office for National Statistics (ONS) said.>,\n",
       " <Sentence: The ONS revised the annual 2004 rate of growth down from the 5.9% estimated in November to 3.2%.>,\n",
       " <Sentence: The ONS echoed an earlier caution from Bank of England governor Mervyn King not to read too much into the poor December figures.>,\n",
       " <Sentence: Some analysts put a positive gloss on the figures, pointing out that the non-seasonally-adjusted figures showed a performance comparable with 2003.>,\n",
       " <Sentence: The November-December jump last year was roughly comparable with recent averages, although some way below the serious booms seen in the 1990s.>)"
      ]
     },
     "execution_count": 65,
     "metadata": {},
     "output_type": "execute_result"
    }
   ],
   "source": [
    "summary"
   ]
  },
  {
   "cell_type": "code",
   "execution_count": 66,
   "id": "887f4507-7a7a-476f-915d-4480c7bf0766",
   "metadata": {},
   "outputs": [
    {
     "name": "stdout",
     "output_type": "stream",
     "text": [
      "Retail sales dropped by 1% on the month in December, after a 0.6% rise\n",
      "in November, the Office for National Statistics (ONS) said.\n",
      "The ONS revised the annual 2004 rate of growth down from the 5.9%\n",
      "estimated in November to 3.2%.\n",
      "The ONS echoed an earlier caution from Bank of England governor Mervyn\n",
      "King not to read too much into the poor December figures.\n",
      "Some analysts put a positive gloss on the figures, pointing out that\n",
      "the non-seasonally-adjusted figures showed a performance comparable\n",
      "with 2003.\n",
      "The November-December jump last year was roughly comparable with\n",
      "recent averages, although some way below the serious booms seen in the\n",
      "1990s.\n"
     ]
    }
   ],
   "source": [
    "for s in summary:\n",
    "    print(wrap(str(s)))"
   ]
  },
  {
   "cell_type": "code",
   "execution_count": 67,
   "id": "08a7e83f-a0c3-4dfe-ab86-c496c7ebf2e6",
   "metadata": {},
   "outputs": [
    {
     "name": "stdout",
     "output_type": "stream",
     "text": [
      "UK retail sales fell in December, failing to meet expectations and\n",
      "making it by some counts the worst Christmas since 1981.\n",
      "Morrisons, Woolworths, House of Fraser, Marks & Spencer and Big Food\n",
      "all said that the festive period was disappointing.\n",
      "And a British Retail Consortium survey found that Christmas 2004 was\n",
      "the worst for 10 years.\n",
      "Yet, other retailers - including HMV, Monsoon, Jessops, Body Shop and\n",
      "Tesco - reported that festive sales were well up on last year.\n",
      "Investec chief economist Philip Shaw said he did not expect the poor\n",
      "retail figures to have any immediate effect on interest rates.\n"
     ]
    }
   ],
   "source": [
    "summarizer=LsaSummarizer()\n",
    "summary=summarizer(parser.document, sentences_count=5)\n",
    "for s in summary:\n",
    "    print(wrap(str(s)))"
   ]
  },
  {
   "cell_type": "code",
   "execution_count": 69,
   "id": "b02fa634-449a-4d29-8f69-c182c8abb27c",
   "metadata": {},
   "outputs": [],
   "source": [
    "# from gensim.summarization import summarize\n",
    "# summary=summarize(doc.iloc[0].split(\"\\n\",1)[1])\n",
    "# print(wrap(summary))"
   ]
  },
  {
   "cell_type": "code",
   "execution_count": null,
   "id": "0935ccba-682a-4f43-8506-93da4740fbbf",
   "metadata": {},
   "outputs": [],
   "source": []
  }
 ],
 "metadata": {
  "kernelspec": {
   "display_name": "Python 3 (ipykernel)",
   "language": "python",
   "name": "python3"
  },
  "language_info": {
   "codemirror_mode": {
    "name": "ipython",
    "version": 3
   },
   "file_extension": ".py",
   "mimetype": "text/x-python",
   "name": "python",
   "nbconvert_exporter": "python",
   "pygments_lexer": "ipython3",
   "version": "3.10.8"
  }
 },
 "nbformat": 4,
 "nbformat_minor": 5
}
